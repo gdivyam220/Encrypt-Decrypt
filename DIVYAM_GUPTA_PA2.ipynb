{
  "nbformat": 4,
  "nbformat_minor": 0,
  "metadata": {
    "colab": {
      "name": "DIVYAM GUPTA PA2.ipynb",
      "provenance": [],
      "authorship_tag": "ABX9TyMy5L0TY+VRl10xXutY+iYy",
      "include_colab_link": true
    },
    "kernelspec": {
      "name": "python3",
      "display_name": "Python 3"
    },
    "language_info": {
      "name": "python"
    }
  },
  "cells": [
    {
      "cell_type": "markdown",
      "metadata": {
        "id": "view-in-github",
        "colab_type": "text"
      },
      "source": [
        "<a href=\"https://colab.research.google.com/github/gdivyam220/Encrypt-Decrypt/blob/main/DIVYAM_GUPTA_PA2.ipynb\" target=\"_parent\"><img src=\"https://colab.research.google.com/assets/colab-badge.svg\" alt=\"Open In Colab\"/></a>"
      ]
    },
    {
      "cell_type": "markdown",
      "source": [
        "                                                  **Practical Assignment 2**\n",
        "\n",
        "        DIVYAM GUPTA\n",
        "        19165020\n",
        "        Pharmaceutical Engineering and Technology\n",
        "\n",
        "**Aim: To explore the Avalanche Effect progression across the DES rounds**\n",
        "\n",
        "The code is referred from this [GFG](https://www.geeksforgeeks.org/data-encryption-standard-des-set-1/) article."
      ],
      "metadata": {
        "id": "Yqg4LG8O3noL"
      }
    },
    {
      "cell_type": "code",
      "execution_count": 136,
      "metadata": {
        "id": "VT2gKc-kcgQB"
      },
      "outputs": [],
      "source": [
        "import numpy as np\n",
        "import pandas as pd\n",
        "import matplotlib.pyplot as plt     #importing the liberary for making plots"
      ]
    },
    {
      "cell_type": "code",
      "source": [
        "#funtion to convert hexadecimal to binary\n",
        "def hex2bin(s):\n",
        "    map = {'0' : \"0000\",\n",
        "           '1' : \"0001\",\n",
        "            '2' : \"0010\",\n",
        "            '3' : \"0011\",\n",
        "            '4' : \"0100\",\n",
        "            '5' : \"0101\",\n",
        "            '6' : \"0110\",\n",
        "            '7' : \"0111\",\n",
        "            '8' : \"1000\",\n",
        "            '9' : \"1001\",\n",
        "            'A' : \"1010\",\n",
        "            'B' : \"1011\",\n",
        "            'C' : \"1100\",\n",
        "            'D' : \"1101\",\n",
        "            'E' : \"1110\",\n",
        "            'F' : \"1111\" }\n",
        "    binary = \"\"\n",
        "    for i in range(len(s)):\n",
        "        binary += map[s[i]]\n",
        "    return binary\n"
      ],
      "metadata": {
        "id": "z3p34-zheXOd"
      },
      "execution_count": 137,
      "outputs": []
    },
    {
      "cell_type": "code",
      "source": [
        "#funtion to convert binary to hexadecimal\n",
        "def bin2hex(s):\n",
        "\tmap = {\"0000\" : '0',\n",
        "\t\t    \"0001\" : '1',\n",
        "\t\t    \"0010\" : '2',\n",
        "\t    \t\"0011\" : '3',\n",
        "\t    \t\"0100\" : '4',\n",
        "\t    \t\"0101\" : '5',\n",
        "\t    \t\"0110\" : '6',\n",
        "\t    \t\"0111\" : '7',\n",
        "\t    \t\"1000\" : '8',\n",
        "\t    \t\"1001\" : '9',\n",
        "\t    \t\"1010\" : 'A',\n",
        "\t    \t\"1011\" : 'B',\n",
        "\t    \t\"1100\" : 'C',\n",
        "\t    \t\"1101\" : 'D',\n",
        "\t    \t\"1110\" : 'E',\n",
        "\t    \t\"1111\" : 'F' }\n",
        "\thex = \"\"\n",
        "\tfor i in range(0,len(s),4):\n",
        "\t\tch = \"\"\n",
        "\t\tch += s[i]\n",
        "\t\tch += s[i + 1]\n",
        "\t\tch += s[i + 2]\n",
        "\t\tch += s[i + 3]\n",
        "\t\thex += map[ch]\n",
        "\t\t\n",
        "\treturn hex"
      ],
      "metadata": {
        "id": "XyaS15j3etfZ"
      },
      "execution_count": 138,
      "outputs": []
    },
    {
      "cell_type": "code",
      "source": [
        "#funtion to convert binary to decimal\n",
        "def bin2dec(binary):\n",
        "\tbinary1 = binary\n",
        "\tdecimal, i, n = 0, 0, 0\n",
        "\twhile(binary != 0):\n",
        "\t\tdec = binary % 10\n",
        "\t\tdecimal = decimal + dec * pow(2, i)\n",
        "\t\tbinary = binary//10\n",
        "\t\ti += 1\n",
        "\treturn decimal\n"
      ],
      "metadata": {
        "id": "DGCvh-LRfjEJ"
      },
      "execution_count": 139,
      "outputs": []
    },
    {
      "cell_type": "code",
      "source": [
        "#funtion to convert decimal to binary\n",
        "def dec2bin(num):\n",
        "\tres = bin(num).replace(\"0b\", \"\")\n",
        "\tif(len(res)%4 != 0):\n",
        "\t\tdiv = len(res) / 4\n",
        "\t\tdiv = int(div)\n",
        "\t\tcounter =(4 * (div + 1)) - len(res)\n",
        "\t\tfor i in range(0, counter):\n",
        "\t\t\tres = '0' + res\n",
        "\treturn res"
      ],
      "metadata": {
        "id": "FmVYI-pCgKU9"
      },
      "execution_count": 140,
      "outputs": []
    },
    {
      "cell_type": "code",
      "source": [
        "# Permute function to rearrange the bits\n",
        "def permute(k, arr, n):\n",
        "\tperm= \"\"\n",
        "\tfor i in range(0, n):\n",
        "\t\tperm += k[arr[i] - 1]\n",
        "\treturn perm"
      ],
      "metadata": {
        "id": "W3bE5hKXgPVe"
      },
      "execution_count": 141,
      "outputs": []
    },
    {
      "cell_type": "code",
      "source": [
        "# shifting the bits towards left by nth shifts\n",
        "def shift_left(k, nth_shifts):\n",
        "\ts = \"\"\n",
        "\tfor i in range(nth_shifts):\n",
        "\t\tfor j in range(1,len(k)):\n",
        "\t\t\ts = s + k[j]\n",
        "\t\ts = s + k[0]\n",
        "\t\tk = s\n",
        "\t\ts = \"\"\n",
        "\treturn k"
      ],
      "metadata": {
        "id": "xr_ztyq0i_Hk"
      },
      "execution_count": 142,
      "outputs": []
    },
    {
      "cell_type": "code",
      "source": [
        "# calculating xow of two strings of binary number a and b\n",
        "def xor(a, b):\n",
        "\tans = \"\"\n",
        "\tfor i in range(len(a)):\n",
        "\t\tif a[i] == b[i]:\n",
        "\t\t\tans = ans + \"0\"\n",
        "\t\telse:\n",
        "\t\t\tans = ans + \"1\"\n",
        "\treturn ans"
      ],
      "metadata": {
        "id": "ZO6L2cG3jXuU"
      },
      "execution_count": 143,
      "outputs": []
    },
    {
      "cell_type": "code",
      "source": [
        "# Table of Position of 64 bits at initial level: Initial Permutation Table\n",
        "initial_perm = [58, 50, 42, 34, 26, 18, 10, 2,\n",
        "\t\t\t\t60, 52, 44, 36, 28, 20, 12, 4,\n",
        "\t\t\t\t62, 54, 46, 38, 30, 22, 14, 6,\n",
        "\t\t\t\t64, 56, 48, 40, 32, 24, 16, 8,\n",
        "\t\t\t\t57, 49, 41, 33, 25, 17, 9, 1,\n",
        "\t\t\t\t59, 51, 43, 35, 27, 19, 11, 3,\n",
        "\t\t\t\t61, 53, 45, 37, 29, 21, 13, 5,\n",
        "\t\t\t\t63, 55, 47, 39, 31, 23, 15, 7]\n",
        "\n",
        "# Expansion D-box Table\n",
        "exp_d = [32, 1 , 2 , 3 , 4 , 5 , 4 , 5,\n",
        "\t\t6 , 7 , 8 , 9 , 8 , 9 , 10, 11,\n",
        "\t\t12, 13, 12, 13, 14, 15, 16, 17,\n",
        "\t\t16, 17, 18, 19, 20, 21, 20, 21,\n",
        "\t\t22, 23, 24, 25, 24, 25, 26, 27,\n",
        "\t\t28, 29, 28, 29, 30, 31, 32, 1 ]\n",
        "\n",
        "# Straight Permutation Table\n",
        "per = [ 16, 7, 20, 21,\n",
        "\t\t29, 12, 28, 17,\n",
        "\t\t1, 15, 23, 26,\n",
        "\t\t5, 18, 31, 10,\n",
        "\t\t2, 8, 24, 14,\n",
        "\t\t32, 27, 3, 9,\n",
        "\t\t19, 13, 30, 6,\n",
        "\t\t22, 11, 4, 25 ]"
      ],
      "metadata": {
        "id": "3JA4H_DBkMQy"
      },
      "execution_count": 144,
      "outputs": []
    },
    {
      "cell_type": "code",
      "source": [
        "sbox = [[[14, 4, 13, 1, 2, 15, 11, 8, 3, 10, 6, 12, 5, 9, 0, 7],\n",
        "\t\t[ 0, 15, 7, 4, 14, 2, 13, 1, 10, 6, 12, 11, 9, 5, 3, 8],\n",
        "\t\t[ 4, 1, 14, 8, 13, 6, 2, 11, 15, 12, 9, 7, 3, 10, 5, 0],\n",
        "\t\t[15, 12, 8, 2, 4, 9, 1, 7, 5, 11, 3, 14, 10, 0, 6, 13 ]],\n",
        "\t\t\t\n",
        "\t\t[[15, 1, 8, 14, 6, 11, 3, 4, 9, 7, 2, 13, 12, 0, 5, 10],\n",
        "\t\t\t[3, 13, 4, 7, 15, 2, 8, 14, 12, 0, 1, 10, 6, 9, 11, 5],\n",
        "\t\t\t[0, 14, 7, 11, 10, 4, 13, 1, 5, 8, 12, 6, 9, 3, 2, 15],\n",
        "\t\t[13, 8, 10, 1, 3, 15, 4, 2, 11, 6, 7, 12, 0, 5, 14, 9 ]],\n",
        "\n",
        "\t\t[ [10, 0, 9, 14, 6, 3, 15, 5, 1, 13, 12, 7, 11, 4, 2, 8],\n",
        "\t\t[13, 7, 0, 9, 3, 4, 6, 10, 2, 8, 5, 14, 12, 11, 15, 1],\n",
        "\t\t[13, 6, 4, 9, 8, 15, 3, 0, 11, 1, 2, 12, 5, 10, 14, 7],\n",
        "\t\t\t[1, 10, 13, 0, 6, 9, 8, 7, 4, 15, 14, 3, 11, 5, 2, 12 ]],\n",
        "\t\n",
        "\t\t[ [7, 13, 14, 3, 0, 6, 9, 10, 1, 2, 8, 5, 11, 12, 4, 15],\n",
        "\t\t[13, 8, 11, 5, 6, 15, 0, 3, 4, 7, 2, 12, 1, 10, 14, 9],\n",
        "\t\t[10, 6, 9, 0, 12, 11, 7, 13, 15, 1, 3, 14, 5, 2, 8, 4],\n",
        "\t\t\t[3, 15, 0, 6, 10, 1, 13, 8, 9, 4, 5, 11, 12, 7, 2, 14] ],\n",
        "\t\t\n",
        "\t\t[ [2, 12, 4, 1, 7, 10, 11, 6, 8, 5, 3, 15, 13, 0, 14, 9],\n",
        "\t\t[14, 11, 2, 12, 4, 7, 13, 1, 5, 0, 15, 10, 3, 9, 8, 6],\n",
        "\t\t\t[4, 2, 1, 11, 10, 13, 7, 8, 15, 9, 12, 5, 6, 3, 0, 14],\n",
        "\t\t[11, 8, 12, 7, 1, 14, 2, 13, 6, 15, 0, 9, 10, 4, 5, 3 ]],\n",
        "\t\n",
        "\t\t[ [12, 1, 10, 15, 9, 2, 6, 8, 0, 13, 3, 4, 14, 7, 5, 11],\n",
        "\t\t[10, 15, 4, 2, 7, 12, 9, 5, 6, 1, 13, 14, 0, 11, 3, 8],\n",
        "\t\t\t[9, 14, 15, 5, 2, 8, 12, 3, 7, 0, 4, 10, 1, 13, 11, 6],\n",
        "\t\t\t[4, 3, 2, 12, 9, 5, 15, 10, 11, 14, 1, 7, 6, 0, 8, 13] ],\n",
        "\t\t\n",
        "\t\t[ [4, 11, 2, 14, 15, 0, 8, 13, 3, 12, 9, 7, 5, 10, 6, 1],\n",
        "\t\t[13, 0, 11, 7, 4, 9, 1, 10, 14, 3, 5, 12, 2, 15, 8, 6],\n",
        "\t\t\t[1, 4, 11, 13, 12, 3, 7, 14, 10, 15, 6, 8, 0, 5, 9, 2],\n",
        "\t\t\t[6, 11, 13, 8, 1, 4, 10, 7, 9, 5, 0, 15, 14, 2, 3, 12] ],\n",
        "\t\t\n",
        "\t\t[ [13, 2, 8, 4, 6, 15, 11, 1, 10, 9, 3, 14, 5, 0, 12, 7],\n",
        "\t\t\t[1, 15, 13, 8, 10, 3, 7, 4, 12, 5, 6, 11, 0, 14, 9, 2],\n",
        "\t\t\t[7, 11, 4, 1, 9, 12, 14, 2, 0, 6, 10, 13, 15, 3, 5, 8],\n",
        "\t\t\t[2, 1, 14, 7, 4, 10, 8, 13, 15, 12, 9, 0, 3, 5, 6, 11] ] ]\n"
      ],
      "metadata": {
        "id": "ibd-Y8m4n-BU"
      },
      "execution_count": 145,
      "outputs": []
    },
    {
      "cell_type": "code",
      "source": [
        "# Final Permutation Table\n",
        "final_perm = [ 40, 8, 48, 16, 56, 24, 64, 32,\n",
        "\t\t\t39, 7, 47, 15, 55, 23, 63, 31,\n",
        "\t\t\t38, 6, 46, 14, 54, 22, 62, 30,\n",
        "\t\t\t37, 5, 45, 13, 53, 21, 61, 29,\n",
        "\t\t\t36, 4, 44, 12, 52, 20, 60, 28,\n",
        "\t\t\t35, 3, 43, 11, 51, 19, 59, 27,\n",
        "\t\t\t34, 2, 42, 10, 50, 18, 58, 26,\n",
        "\t\t\t33, 1, 41, 9, 49, 17, 57, 25 ]"
      ],
      "metadata": {
        "id": "_AZwgfacvwgO"
      },
      "execution_count": 146,
      "outputs": []
    },
    {
      "cell_type": "code",
      "source": [
        "# function to get roundkeys in binary and hexadecimal format for given key\n",
        "def get_rkb_rk(key):\n",
        "  # Key generation\n",
        "  # --hexadecimal to binary\n",
        "  key = hex2bin(key)\n",
        "\n",
        "  # --parity bit drop table\n",
        "  keyp = [57, 49, 41, 33, 25, 17, 9,\n",
        "          1, 58, 50, 42, 34, 26, 18,\n",
        "          10, 2, 59, 51, 43, 35, 27,\n",
        "          19, 11, 3, 60, 52, 44, 36,\n",
        "          63, 55, 47, 39, 31, 23, 15,\n",
        "          7, 62, 54, 46, 38, 30, 22,\n",
        "          14, 6, 61, 53, 45, 37, 29,\n",
        "          21, 13, 5, 28, 20, 12, 4 ]\n",
        "\n",
        "  # getting 56 bit key from 64 bit using the parity bits\n",
        "  key = permute(key, keyp, 56)\n",
        "\n",
        "  # Number of bit shifts\n",
        "  shift_table = [1, 1, 2, 2,\n",
        "                  2, 2, 2, 2,\n",
        "                  1, 2, 2, 2,\n",
        "                  2, 2, 2, 1 ]\n",
        "  \n",
        "  # Key- Compression Table : Compression of key from 56 bits to 48 bits\n",
        "  key_comp = [14, 17, 11, 24, 1, 5,\n",
        "              3, 28, 15, 6, 21, 10,\n",
        "              23, 19, 12, 4, 26, 8,\n",
        "              16, 7, 27, 20, 13, 2,\n",
        "              41, 52, 31, 37, 47, 55,\n",
        "              30, 40, 51, 45, 33, 48,\n",
        "              44, 49, 39, 56, 34, 53,\n",
        "              46, 42, 50, 36, 29, 32 ]\n",
        "  \n",
        "  # Splitting\n",
        "  left = key[0:28]    # rkb for RoundKeys in binary\n",
        "  right = key[28:56]  # rk for RoundKeys in hexadecimal\n",
        "  \n",
        "  rkb = []\n",
        "  rk  = []\n",
        "  for i in range(0, 16):\n",
        "      # Shifting the bits by nth shifts by checking from shift table\n",
        "      left = shift_left(left, shift_table[i])\n",
        "      right = shift_left(right, shift_table[i])\n",
        "      \n",
        "      # Combination of left and right string\n",
        "      combine_str = left + right\n",
        "      \n",
        "      # Compression of key from 56 to 48 bits\n",
        "      round_key = permute(combine_str, key_comp, 48)\n",
        "    \n",
        "      rkb.append(round_key)\n",
        "      rk.append(bin2hex(round_key))\n",
        "  return rkb,rk"
      ],
      "metadata": {
        "id": "oKshZo6AtkI7"
      },
      "execution_count": 147,
      "outputs": []
    },
    {
      "cell_type": "code",
      "source": [
        "# Encryption Function\n",
        "\n",
        "def encrypt(pt, rkb, rk):\n",
        "    ciphers=[]\n",
        "    pt = hex2bin(pt)\n",
        "     \n",
        "    # Initial Permutation\n",
        "    pt = permute(pt, initial_perm, 64)\n",
        "    # print(\"After initial permutation\", bin2hex(pt))\n",
        "     \n",
        "    # Splitting\n",
        "    left = pt[0:32]\n",
        "    right = pt[32:64]\n",
        "    for i in range(0, 16):\n",
        "        #  Expansion D-box: Expanding the 32 bits data into 48 bits\n",
        "        right_expanded = permute(right, exp_d, 48)\n",
        "         \n",
        "        # XOR RoundKey[i] and right_expanded\n",
        "        xor_x = xor(right_expanded, rkb[i])\n",
        " \n",
        "        # S-boxex: substituting the value from s-box table by calculating row and column\n",
        "        sbox_str = \"\"\n",
        "        for j in range(0, 8):\n",
        "            row = bin2dec(int(xor_x[j * 6] + xor_x[j * 6 + 5]))\n",
        "            col = bin2dec(int(xor_x[j * 6 + 1] + xor_x[j * 6 + 2] + xor_x[j * 6 + 3] + xor_x[j * 6 + 4]))\n",
        "            val = sbox[j][row][col]\n",
        "            sbox_str = sbox_str + dec2bin(val)\n",
        "             \n",
        "        # Straight D-box: After substituting rearranging the bits \n",
        "        sbox_str = permute(sbox_str, per, 32)\n",
        "         \n",
        "        # XOR left and sbox_str\n",
        "        result = xor(left, sbox_str)\n",
        "        left = result\n",
        "         \n",
        "        # Swapper\n",
        "        if(i != 15):\n",
        "            left, right = right, left\n",
        "        # print(\"Round \", i + 1, \" \", bin2hex(left), \" \", bin2hex(right), \" \", rk[i])\n",
        "        ciphers.append(left+right)\n",
        "     \n",
        "    # Combination\n",
        "    combine = left + right\n",
        "\n",
        "    cipher_text = permute(combine, final_perm, 64)\n",
        "    return [cipher_text,ciphers]"
      ],
      "metadata": {
        "id": "h7C3feZ7ouXH"
      },
      "execution_count": 148,
      "outputs": []
    },
    {
      "cell_type": "code",
      "source": [
        "pt0='1AB456BBCD482536'    #parent plain text\n",
        "pt=['1AB456BBCD48253C','1AB456BBC5282536','1AC456BBCD482536','1AB456BBCD472536','1AB456ABCD482536','1AB456BBCD482636'] # list of 5 different plain texts\n",
        "key = \"1B1B491827367CDC\" #64 bit key\n",
        "\n",
        "rkb, rk = get_rkb_rk(key)\n",
        "\n",
        "# getting ciphertext from parent plaintext\n",
        "_, parent_ciphers= encrypt(pt0, rkb, rk)\n",
        "\n",
        "matrix=[]\n",
        "for pt in pt:\n",
        "  _ , ciphers = encrypt(pt, rkb, rk)\n",
        "  matrix.append(ciphers)\n",
        "\n",
        "matrix =[[row[i] for row in matrix] for i in range(len(matrix[0]))]\n"
      ],
      "metadata": {
        "id": "INUP6Jvps6yU"
      },
      "execution_count": 149,
      "outputs": []
    },
    {
      "cell_type": "code",
      "source": [
        "# function to calculate Hamming Distance\n",
        "def calculate_hamming_distance(str1,str2):\n",
        "  c=0 \n",
        "  for i in range(len(str1)):\n",
        "    if(str1[i]!=str2[i]):\n",
        "      c+=1\n",
        "  return c"
      ],
      "metadata": {
        "id": "RzIY_nhvwWYt"
      },
      "execution_count": 150,
      "outputs": []
    },
    {
      "cell_type": "code",
      "source": [
        "#calculating hamming Distances\n",
        "hamming_distances=[]\n",
        "for i in range(16):\n",
        "  temp=[]\n",
        "  for j in range(5):\n",
        "    hd=calculate_hamming_distance(matrix[i][j] , parent_ciphers[i])\n",
        "    temp.append(hd)\n",
        "  hamming_distances.append(temp)\n",
        "print(hamming_distances)"
      ],
      "metadata": {
        "colab": {
          "base_uri": "https://localhost:8080/"
        },
        "id": "sdSoYoBavzrN",
        "outputId": "f8e07b22-e7b7-474e-8e3d-a89ba27f4f21"
      },
      "execution_count": 151,
      "outputs": [
        {
          "output_type": "stream",
          "name": "stdout",
          "text": [
            "[[10, 9, 6, 8, 1], [27, 21, 23, 21, 7], [35, 34, 32, 33, 21], [34, 38, 26, 32, 31], [35, 29, 29, 30, 30], [32, 32, 34, 32, 32], [35, 35, 36, 37, 35], [33, 28, 40, 36, 33], [27, 31, 39, 31, 38], [27, 35, 33, 31, 28], [30, 35, 30, 34, 23], [37, 37, 31, 36, 35], [40, 39, 31, 31, 37], [36, 34, 27, 32, 33], [31, 35, 29, 36, 31], [30, 34, 33, 31, 31]]\n"
          ]
        }
      ]
    },
    {
      "cell_type": "code",
      "source": [
        "#plotting\n",
        "plt.boxplot(hamming_distances)\n",
        "plt.title('Avalanche Effect on DES Rounds (i) For 5 different plaintexts')\n",
        "plt.xlabel('DES Rounds')\n",
        "plt.ylabel('Hamming Distance')\n",
        "plt.ylim(1,50)\n",
        "plt.show()"
      ],
      "metadata": {
        "colab": {
          "base_uri": "https://localhost:8080/",
          "height": 295
        },
        "id": "rXehVtTKxr9A",
        "outputId": "46900fa0-71bd-4c44-cc87-91c61eb762a5"
      },
      "execution_count": 152,
      "outputs": [
        {
          "output_type": "display_data",
          "data": {
            "image/png": "[encoded data removed]",
            "text/plain": [
              "<Figure size 432x288 with 1 Axes>"
            ]
          },
          "metadata": {
            "needs_background": "light"
          }
        }
      ]
    },
    {
      "cell_type": "markdown",
      "source": [
        ""
      ],
      "metadata": {
        "id": "Ks13OvZS3j1B"
      }
    },
    {
      "cell_type": "code",
      "source": [
        "# the plaintext lists here has different hamming distances from the parent plaintext\n",
        "key = \"AABB09182736CCDD\"   # 64 bit key \n",
        "parent_plaintext ='123456ABCD132536' # to get parent cipher for calculating hamming distance from \n",
        "plaintexts = ['123456ABCD132566','423456EBCD132536','123452ACDD132536','123156ABCF133636','523456ABEF136566']  \n",
        "                                                              # list of plaintexts with 5 different hamming distance\n",
        "\n",
        "rkb, rk = get_rkb_rk(key)\n",
        "\n",
        "#getting ciphertext from parent plaintext\n",
        "_, parent_ciphers= encrypt(parent_plaintext, rkb, rk)\n",
        "\n",
        "# storing cipher texts from list of plaintexts in matrix \n",
        "matrix=[]\n",
        "for pt in plaintexts:\n",
        "  _ , ciphers = encrypt(pt, rkb, rk)\n",
        "  matrix.append(ciphers)\n",
        "\n",
        "matrix =[[row[i] for row in matrix] for i in range(len(matrix[0]))]\n",
        "\n"
      ],
      "metadata": {
        "id": "wCxIgiCH0ktv"
      },
      "execution_count": 153,
      "outputs": []
    },
    {
      "cell_type": "code",
      "source": [
        "#calculating hamming Distances\n",
        "hamming_distances=[]\n",
        "\n",
        "for i in range(16):\n",
        "  temp=[]\n",
        "  for j in range(5):\n",
        "    hd=calculate_hamming_distance(matrix[i][j] , parent_ciphers[i])\n",
        "    temp.append(hd)\n",
        "  hamming_distances.append(temp)\n",
        "print(hamming_distances)"
      ],
      "metadata": {
        "colab": {
          "base_uri": "https://localhost:8080/"
        },
        "id": "NqZrpzE91ySv",
        "outputId": "5da91ebd-5e48-4474-b6d1-115c7c407f96"
      },
      "execution_count": 154,
      "outputs": [
        {
          "output_type": "stream",
          "name": "stdout",
          "text": [
            "[[2, 3, 9, 10, 15], [11, 15, 24, 26, 31], [24, 27, 35, 32, 38], [38, 30, 39, 32, 37], [36, 31, 32, 36, 29], [28, 33, 28, 32, 32], [25, 30, 29, 30, 34], [25, 28, 30, 35, 26], [31, 29, 32, 34, 30], [29, 31, 26, 32, 34], [30, 34, 27, 30, 32], [33, 34, 36, 30, 32], [30, 33, 35, 36, 38], [32, 28, 30, 34, 43], [30, 28, 29, 28, 40], [32, 32, 36, 25, 34]]\n"
          ]
        }
      ]
    },
    {
      "cell_type": "code",
      "source": [
        "#plotting\n",
        "plt.boxplot(hamming_distances)\n",
        "plt.title('Avalanche Effect on DES Rounds')\n",
        "plt.xlabel('DES Rounds')\n",
        "plt.ylabel('Hamming Distance')\n",
        "plt.ylim(1,45)\n",
        "plt.show()"
      ],
      "metadata": {
        "colab": {
          "base_uri": "https://localhost:8080/",
          "height": 295
        },
        "id": "MpjfccCx13eG",
        "outputId": "85124a4c-474a-465d-8b5c-20217d43d956"
      },
      "execution_count": 162,
      "outputs": [
        {
          "output_type": "display_data",
          "data": {
            "image/png": "[encoded data removed]",
            "text/plain": [
              "<Figure size 432x288 with 1 Axes>"
            ]
          },
          "metadata": {
            "needs_background": "light"
          }
        }
      ]
    },
    {
      "cell_type": "code",
      "source": [
        "par_key = \"AABB09182736CCDD\"   # 64 bit key \n",
        "plaintext ='123456ABCD132536' \n",
        "keys = [\"FCD09288746CCEAE\",\"EEBC09188436CCEE\",\"CEAC19188736CCEE\",\"ABBD19128736DCEE\",\"CDBC19188738CCEE\"] \n",
        "                                                                              # five different secret keys\n",
        "\n",
        "matrix = []\n",
        "for k in keys:\n",
        "  rkb, rk = get_rkb_rk(k)\n",
        "  _, ciphers = encrypt(plaintext, rkb, rk)\n",
        "  matrix.append(ciphers)\n",
        "\n",
        "matrix =[[row[i] for row in matrix] for i in range(len(matrix[0]))]\n",
        "\n",
        "rkb, rk = get_rkb_rk(par_key)\n",
        "_, parent_ciphers= encrypt(plaintext, rkb, rk)\n",
        "\n",
        "# calculating hamming Distances\n",
        "hamming_distances=[]\n",
        "for i in range(16):\n",
        "  temp=[]\n",
        "  for j in range(5):\n",
        "    hd=calculate_hamming_distance(matrix[i][j] , parent_ciphers[i])\n",
        "    temp.append(hd)\n",
        "  hamming_distances.append(temp)"
      ],
      "metadata": {
        "id": "L0RMIBb32mYw"
      },
      "execution_count": 156,
      "outputs": []
    },
    {
      "cell_type": "code",
      "source": [
        "#plotting\n",
        "plt.boxplot(hamming_distances)\n",
        "plt.title('Avalanche Effect on DES Rounds (iii) For 5 different secret keys')\n",
        "plt.xlabel('DES Rounds')\n",
        "plt.ylabel('Hamming Distance')\n",
        "plt.ylim(1,50)\n",
        "plt.show()"
      ],
      "metadata": {
        "colab": {
          "base_uri": "https://localhost:8080/",
          "height": 295
        },
        "id": "8I9KDm9W3IGc",
        "outputId": "6d4b2191-a06a-4ac0-f692-7b5c36ef3586"
      },
      "execution_count": 157,
      "outputs": [
        {
          "output_type": "display_data",
          "data": {
            "image/png": "[encoded data removed]",
            "text/plain": [
              "<Figure size 432x288 with 1 Axes>"
            ]
          },
          "metadata": {
            "needs_background": "light"
          }
        }
      ]
    }
  ]
}